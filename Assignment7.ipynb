{
 "cells": [
  {
   "cell_type": "code",
   "execution_count": 1,
   "id": "1b14e909-d911-4dc6-bee5-ed9cb308ff52",
   "metadata": {},
   "outputs": [
    {
     "name": "stdout",
     "output_type": "stream",
     "text": [
      "[[ 1  2  3  4  5]\n",
      " [ 6  7  8  9 10]]\n"
     ]
    }
   ],
   "source": [
    "#Exercise1\n",
    "import numpy as np\n",
    "import pandas as pd\n",
    "array_1 = np.array(list(range(1, 11))).reshape(2, 5)\n",
    "print(array_1)"
   ]
  },
  {
   "cell_type": "code",
   "execution_count": 11,
   "id": "5dc79a38-ae45-4910-9b5d-0276519055c2",
   "metadata": {},
   "outputs": [
    {
     "name": "stdout",
     "output_type": "stream",
     "text": [
      "[ 1  2  3  4  5  6  7  8  9 10 11 12 13 14 15 16 17 18 19 20]\n",
      "[ 6  7  8  9 10 11 12 13 14 15 16]\n"
     ]
    }
   ],
   "source": [
    "#Exercise2\n",
    "array_2 = np.array(list(range(1, 21)))\n",
    "extracted_elements = array_2[5:16]\n",
    "print(array_2)\n",
    "print(extracted_elements)"
   ]
  },
  {
   "cell_type": "code",
   "execution_count": 13,
   "id": "fc152ea3-5fd3-4710-86a3-2e678e1e45b4",
   "metadata": {},
   "outputs": [
    {
     "name": "stdout",
     "output_type": "stream",
     "text": [
      "apples     3\n",
      "bananas    2\n",
      "oranges    1\n",
      "pears      4\n",
      "dtype: int64\n"
     ]
    }
   ],
   "source": [
    "#Exercise3\n",
    "fruits = pd.Series({'apples': 3, 'bananas': 2, 'oranges': 1})\n",
    "fruits['pears'] = 4\n",
    "print(fruits)"
   ]
  },
  {
   "cell_type": "code",
   "execution_count": 15,
   "id": "50c00187-cdd2-48b7-9f40-d5f2599e4c12",
   "metadata": {},
   "outputs": [
    {
     "name": "stdout",
     "output_type": "stream",
     "text": [
      "      name  age gender\n",
      "0    Alice   25      F\n",
      "1      Bob   30      M\n",
      "2  Charlie   22      M\n",
      "3    David   35      M\n",
      "4      Eve   40      F\n",
      "5    Frank   27      M\n",
      "6    Grace   29      F\n",
      "7     Hank   33      M\n",
      "8      Ivy   31      F\n",
      "9     Jack   26      M\n"
     ]
    }
   ],
   "source": [
    "#Exercise4\n",
    "data = {\n",
    "    'name': ['Alice', 'Bob', 'Charlie', 'David', 'Eve', 'Frank', 'Grace', 'Hank', 'Ivy', 'Jack'],\n",
    "    'age': [25, 30, 22, 35, 40, 27, 29, 33, 31, 26],\n",
    "    'gender': ['F', 'M', 'M', 'M', 'F', 'M', 'F', 'M', 'F', 'M']\n",
    "}\n",
    "df = pd.DataFrame(data)\n",
    "print(df)"
   ]
  },
  {
   "cell_type": "code",
   "execution_count": 17,
   "id": "4e793dc9-8692-4c4c-9b89-9500e4afd86b",
   "metadata": {},
   "outputs": [
    {
     "name": "stdout",
     "output_type": "stream",
     "text": [
      "      name  age gender  occupation\n",
      "0    Alice   25      F  Programmer\n",
      "1      Bob   30      M     Manager\n",
      "2  Charlie   22      M     Analyst\n",
      "3    David   35      M  Programmer\n",
      "4      Eve   40      F     Manager\n",
      "5    Frank   27      M     Analyst\n",
      "6    Grace   29      F  Programmer\n",
      "7     Hank   33      M     Manager\n",
      "8      Ivy   31      F     Analyst\n",
      "9     Jack   26      M  Programmer\n"
     ]
    }
   ],
   "source": [
    "#Exercise5\n",
    "df['occupation'] = ['Programmer', 'Manager', 'Analyst', 'Programmer', 'Manager', 'Analyst', 'Programmer', 'Manager', 'Analyst', 'Programmer']\n",
    "print(df)"
   ]
  },
  {
   "cell_type": "code",
   "execution_count": 19,
   "id": "788ef444-252d-488f-8351-baa7e42f095a",
   "metadata": {},
   "outputs": [
    {
     "name": "stdout",
     "output_type": "stream",
     "text": [
      "    name  age gender  occupation\n",
      "1    Bob   30      M     Manager\n",
      "3  David   35      M  Programmer\n",
      "4    Eve   40      F     Manager\n",
      "7   Hank   33      M     Manager\n",
      "8    Ivy   31      F     Analyst\n"
     ]
    }
   ],
   "source": [
    "#Exercise6\n",
    "filtered_df=df[df['age']>=30]\n",
    "print(filtered_df)"
   ]
  },
  {
   "cell_type": "code",
   "execution_count": 21,
   "id": "ba850af6-88a3-4afa-a117-9d06602afbc2",
   "metadata": {},
   "outputs": [
    {
     "name": "stdout",
     "output_type": "stream",
     "text": [
      "      name  age gender  occupation\n",
      "0    Alice   25      F  Programmer\n",
      "1      Bob   30      M     Manager\n",
      "2  Charlie   22      M     Analyst\n",
      "3    David   35      M  Programmer\n",
      "4      Eve   40      F     Manager\n",
      "5    Frank   27      M     Analyst\n",
      "6    Grace   29      F  Programmer\n",
      "7     Hank   33      M     Manager\n",
      "8      Ivy   31      F     Analyst\n",
      "9     Jack   26      M  Programmer\n"
     ]
    }
   ],
   "source": [
    "#Exercise7\n",
    "df.to_csv('data.csv', index=False)\n",
    "df_read = pd.read_csv('data.csv')\n",
    "print(df_read)"
   ]
  },
  {
   "cell_type": "code",
   "execution_count": null,
   "id": "8879fc0a-199f-4e8d-9353-8085319c90a0",
   "metadata": {},
   "outputs": [],
   "source": []
  }
 ],
 "metadata": {
  "kernelspec": {
   "display_name": "Python 3 (ipykernel)",
   "language": "python",
   "name": "python3"
  },
  "language_info": {
   "codemirror_mode": {
    "name": "ipython",
    "version": 3
   },
   "file_extension": ".py",
   "mimetype": "text/x-python",
   "name": "python",
   "nbconvert_exporter": "python",
   "pygments_lexer": "ipython3",
   "version": "3.12.7"
  }
 },
 "nbformat": 4,
 "nbformat_minor": 5
}
